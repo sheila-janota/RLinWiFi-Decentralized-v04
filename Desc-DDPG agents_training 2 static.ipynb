{
 "cells": [
  {
   "cell_type": "code",
   "execution_count": 1,
   "id": "9ab0391a",
   "metadata": {},
   "outputs": [],
   "source": [
    "\n",
    "#%%\n",
    "from ns3gym import ns3env\n",
    "from comet_ml import Experiment, Optimizer\n",
    "import tqdm\n",
    "import subprocess\n",
    "from collections import deque\n",
    "import numpy as np\n",
    "\n",
    "from agents.ddpg.agent import Agent, Config\n",
    "from agents.ddpg.model import Actor\n",
    "from agents.teacher import Teacher, EnvWrapper\n",
    "from preprocessor import Preprocessor"
   ]
  },
  {
   "cell_type": "code",
   "execution_count": 2,
   "id": "4800669b",
   "metadata": {},
   "outputs": [
    {
     "name": "stdout",
     "output_type": "stream",
     "text": [
      "Steps per episode: 6000\n",
      "Waiting for simulation script to connect on port: tcp://localhost:46292\n",
      "Please start proper ns-3 simulation script using ./waf --run \"...\"\n",
      "34.781616|0|0|2|-nan\n",
      "observation_space dim: 300\n",
      "Observation space shape: (1, 300)\n",
      "Action space shape: (1, 1)\n"
     ]
    }
   ],
   "source": [
    "#%%\n",
    "scenario = \"basic\"\n",
    "\n",
    "simTime = 60 # seconds\n",
    "stepTime = 0.01  # seconds\n",
    "history_length = 300\n",
    "\n",
    "EPISODE_COUNT = 15\n",
    "steps_per_ep = int(simTime/stepTime)\n",
    "\n",
    "sim_args = {\n",
    "    \"simTime\": simTime,\n",
    "    \"envStepTime\": stepTime,\n",
    "    \"historyLength\": history_length,\n",
    "    \"agentType\": Agent.TYPE,\n",
    "    \"scenario\": \"basic\",\n",
    "    \"nWifi\": 2,\n",
    "}\n",
    "\n",
    "print(\"Steps per episode:\", steps_per_ep)\n",
    "\n",
    "threads_no = 1\n",
    "env = EnvWrapper(threads_no, **sim_args)\n",
    "\n",
    "#%%\n",
    "env.reset()\n",
    "ob_space = env.observation_space\n",
    "ac_space = env.action_space\n",
    "\n",
    "print(\"Observation space shape:\", ob_space)\n",
    "print(\"Action space shape:\", ac_space)\n",
    "\n",
    "assert ob_space is not None"
   ]
  },
  {
   "cell_type": "code",
   "execution_count": 3,
   "id": "94d83dfc",
   "metadata": {
    "scrolled": true
   },
   "outputs": [
    {
     "name": "stdout",
     "output_type": "stream",
     "text": [
      "CuDNN version: 7102\n",
      "cpu\n",
      "CuDNN version: 7102\n",
      "cpu\n"
     ]
    },
    {
     "name": "stderr",
     "output_type": "stream",
     "text": [
      "COMET INFO: Experiment is live on comet.ml https://www.comet.com/sheila-janota/rl-in-wifi/9c4b7f65fcf94cf29fcd8e14b6b3db70\n",
      "\n"
     ]
    },
    {
     "name": "stdout",
     "output_type": "stream",
     "text": [
      "0\n",
      "34.781616|0|0|2|-nan\n"
     ]
    },
    {
     "name": "stderr",
     "output_type": "stream",
     "text": [
      "  5%|▌         | 334/6300 [00:29<09:44, 10.20it/s, curr_speed=39.29 Mbps, mb_sent=26.72 Mb]"
     ]
    },
    {
     "name": "stdout",
     "output_type": "stream",
     "text": [
      "------- STARTED TRAINING -------\n",
      "------- STARTED TRAINING -------\n"
     ]
    },
    {
     "name": "stderr",
     "output_type": "stream",
     "text": [
      "100%|██████████| 6300/6300 [11:30<00:00,  9.12it/s, curr_speed=38.80 Mbps, mb_sent=4644.88 Mb]\n"
     ]
    },
    {
     "name": "stdout",
     "output_type": "stream",
     "text": [
      "Waiting for simulation script to connect on port: tcp://localhost:21940\n",
      "Please start proper ns-3 simulation script using ./waf --run \"...\"\n",
      "Sent 4644.88 Mb/s.\tMean speed: 77.41 Mb/s\tEpisode 1/15 finished\n",
      "\n",
      "1\n",
      "34.781616|0|0|2|-nan\n"
     ]
    },
    {
     "name": "stderr",
     "output_type": "stream",
     "text": [
      "100%|██████████| 6300/6300 [11:11<00:00,  9.38it/s, curr_speed=39.09 Mbps, mb_sent=4674.07 Mb]\n"
     ]
    },
    {
     "name": "stdout",
     "output_type": "stream",
     "text": [
      "Waiting for simulation script to connect on port: tcp://localhost:34634\n",
      "Please start proper ns-3 simulation script using ./waf --run \"...\"\n",
      "Sent 4674.07 Mb/s.\tMean speed: 77.90 Mb/s\tEpisode 2/15 finished\n",
      "\n",
      "2\n",
      "34.781616|0|0|2|-nan\n"
     ]
    },
    {
     "name": "stderr",
     "output_type": "stream",
     "text": [
      "100%|██████████| 6300/6300 [11:00<00:00,  9.54it/s, curr_speed=39.41 Mbps, mb_sent=4696.32 Mb]\n"
     ]
    },
    {
     "name": "stdout",
     "output_type": "stream",
     "text": [
      "Waiting for simulation script to connect on port: tcp://localhost:33241\n",
      "Please start proper ns-3 simulation script using ./waf --run \"...\"\n",
      "Sent 4696.32 Mb/s.\tMean speed: 78.27 Mb/s\tEpisode 3/15 finished\n",
      "\n",
      "3\n",
      "34.781616|0|0|2|-nan\n"
     ]
    },
    {
     "name": "stderr",
     "output_type": "stream",
     "text": [
      "100%|██████████| 6300/6300 [11:32<00:00,  9.10it/s, curr_speed=39.50 Mbps, mb_sent=4711.54 Mb]\n"
     ]
    },
    {
     "name": "stdout",
     "output_type": "stream",
     "text": [
      "Waiting for simulation script to connect on port: tcp://localhost:31492\n",
      "Please start proper ns-3 simulation script using ./waf --run \"...\"\n",
      "Sent 4711.54 Mb/s.\tMean speed: 78.53 Mb/s\tEpisode 4/15 finished\n",
      "\n",
      "4\n",
      "34.781616|0|0|2|-nan\n"
     ]
    },
    {
     "name": "stderr",
     "output_type": "stream",
     "text": [
      "  5%|▍         | 305/6300 [00:26<10:37,  9.40it/s, curr_speed=41.55 Mbps, mb_sent=4.16 Mb]"
     ]
    },
    {
     "name": "stdout",
     "output_type": "stream",
     "text": [
      "------- MEMORY BUFFER FILLED -------\n",
      "------- MEMORY BUFFER FILLED -------\n"
     ]
    },
    {
     "name": "stderr",
     "output_type": "stream",
     "text": [
      "100%|██████████| 6300/6300 [14:18<00:00,  7.34it/s, curr_speed=39.47 Mbps, mb_sent=4727.53 Mb]\n"
     ]
    },
    {
     "name": "stdout",
     "output_type": "stream",
     "text": [
      "Waiting for simulation script to connect on port: tcp://localhost:41495\n",
      "Please start proper ns-3 simulation script using ./waf --run \"...\"\n",
      "Sent 4727.53 Mb/s.\tMean speed: 78.79 Mb/s\tEpisode 5/15 finished\n",
      "\n",
      "5\n",
      "34.781616|0|0|2|-nan\n"
     ]
    },
    {
     "name": "stderr",
     "output_type": "stream",
     "text": [
      "100%|██████████| 6300/6300 [13:17<00:00,  7.90it/s, curr_speed=39.52 Mbps, mb_sent=4738.23 Mb]\n"
     ]
    },
    {
     "name": "stdout",
     "output_type": "stream",
     "text": [
      "Waiting for simulation script to connect on port: tcp://localhost:24790\n",
      "Please start proper ns-3 simulation script using ./waf --run \"...\"\n",
      "Sent 4738.23 Mb/s.\tMean speed: 78.97 Mb/s\tEpisode 6/15 finished\n",
      "\n",
      "6\n",
      "34.781616|0|0|2|-nan\n"
     ]
    },
    {
     "name": "stderr",
     "output_type": "stream",
     "text": [
      "100%|██████████| 6300/6300 [13:08<00:00,  7.99it/s, curr_speed=39.61 Mbps, mb_sent=4746.27 Mb]\n"
     ]
    },
    {
     "name": "stdout",
     "output_type": "stream",
     "text": [
      "Waiting for simulation script to connect on port: tcp://localhost:41297\n",
      "Please start proper ns-3 simulation script using ./waf --run \"...\"\n",
      "Sent 4746.27 Mb/s.\tMean speed: 79.10 Mb/s\tEpisode 7/15 finished\n",
      "\n",
      "7\n",
      "34.781616|0|0|2|-nan\n"
     ]
    },
    {
     "name": "stderr",
     "output_type": "stream",
     "text": [
      "100%|██████████| 6300/6300 [13:09<00:00,  7.98it/s, curr_speed=39.07 Mbps, mb_sent=4748.17 Mb]\n"
     ]
    },
    {
     "name": "stdout",
     "output_type": "stream",
     "text": [
      "Waiting for simulation script to connect on port: tcp://localhost:15344\n",
      "Please start proper ns-3 simulation script using ./waf --run \"...\"\n",
      "Sent 4748.17 Mb/s.\tMean speed: 79.14 Mb/s\tEpisode 8/15 finished\n",
      "\n",
      "8\n",
      "34.781616|0|0|2|-nan\n"
     ]
    },
    {
     "name": "stderr",
     "output_type": "stream",
     "text": [
      "100%|██████████| 6300/6300 [13:10<00:00,  7.97it/s, curr_speed=39.83 Mbps, mb_sent=4758.47 Mb]\n"
     ]
    },
    {
     "name": "stdout",
     "output_type": "stream",
     "text": [
      "Waiting for simulation script to connect on port: tcp://localhost:23532\n",
      "Please start proper ns-3 simulation script using ./waf --run \"...\"\n",
      "Sent 4758.47 Mb/s.\tMean speed: 79.31 Mb/s\tEpisode 9/15 finished\n",
      "\n",
      "9\n",
      "34.781616|0|0|2|-nan\n"
     ]
    },
    {
     "name": "stderr",
     "output_type": "stream",
     "text": [
      "100%|██████████| 6300/6300 [13:16<00:00,  7.91it/s, curr_speed=39.54 Mbps, mb_sent=4756.30 Mb]\n"
     ]
    },
    {
     "name": "stdout",
     "output_type": "stream",
     "text": [
      "Waiting for simulation script to connect on port: tcp://localhost:50359\n",
      "Please start proper ns-3 simulation script using ./waf --run \"...\"\n",
      "Sent 4756.30 Mb/s.\tMean speed: 79.27 Mb/s\tEpisode 10/15 finished\n",
      "\n",
      "10\n",
      "34.781616|0|0|2|-nan\n"
     ]
    },
    {
     "name": "stderr",
     "output_type": "stream",
     "text": [
      "100%|██████████| 6300/6300 [13:08<00:00,  7.99it/s, curr_speed=39.74 Mbps, mb_sent=4755.19 Mb]\n"
     ]
    },
    {
     "name": "stdout",
     "output_type": "stream",
     "text": [
      "Waiting for simulation script to connect on port: tcp://localhost:46236\n",
      "Please start proper ns-3 simulation script using ./waf --run \"...\"\n",
      "Sent 4755.19 Mb/s.\tMean speed: 79.25 Mb/s\tEpisode 11/15 finished\n",
      "\n",
      "11\n",
      "34.781616|0|0|2|-nan\n"
     ]
    },
    {
     "name": "stderr",
     "output_type": "stream",
     "text": [
      "100%|██████████| 6300/6300 [13:02<00:00,  8.05it/s, curr_speed=39.72 Mbps, mb_sent=4758.42 Mb]\n"
     ]
    },
    {
     "name": "stdout",
     "output_type": "stream",
     "text": [
      "Waiting for simulation script to connect on port: tcp://localhost:50119\n",
      "Please start proper ns-3 simulation script using ./waf --run \"...\"\n",
      "Sent 4758.42 Mb/s.\tMean speed: 79.31 Mb/s\tEpisode 12/15 finished\n",
      "\n",
      "12\n",
      "Turning off noise\n",
      "34.781616|0|0|2|-nan\n"
     ]
    },
    {
     "name": "stderr",
     "output_type": "stream",
     "text": [
      "100%|██████████| 6300/6300 [13:16<00:00,  7.91it/s, curr_speed=39.94 Mbps, mb_sent=4758.67 Mb]\n"
     ]
    },
    {
     "name": "stdout",
     "output_type": "stream",
     "text": [
      "Waiting for simulation script to connect on port: tcp://localhost:27900\n",
      "Please start proper ns-3 simulation script using ./waf --run \"...\"\n",
      "Sent 4758.67 Mb/s.\tMean speed: 79.31 Mb/s\tEpisode 13/15 finished\n",
      "\n",
      "13\n",
      "Turning off noise\n",
      "34.781616|0|0|2|-nan\n"
     ]
    },
    {
     "name": "stderr",
     "output_type": "stream",
     "text": [
      "100%|██████████| 6300/6300 [13:14<00:00,  7.93it/s, curr_speed=39.94 Mbps, mb_sent=4758.67 Mb]\n"
     ]
    },
    {
     "name": "stdout",
     "output_type": "stream",
     "text": [
      "Waiting for simulation script to connect on port: tcp://localhost:14252\n",
      "Please start proper ns-3 simulation script using ./waf --run \"...\"\n",
      "Sent 4758.67 Mb/s.\tMean speed: 79.31 Mb/s\tEpisode 14/15 finished\n",
      "\n",
      "14\n",
      "Turning off noise\n",
      "34.781616|0|0|2|-nan\n"
     ]
    },
    {
     "name": "stderr",
     "output_type": "stream",
     "text": [
      "100%|██████████| 6300/6300 [09:53<00:00, 10.62it/s, curr_speed=39.94 Mbps, mb_sent=4758.67 Mb]\n"
     ]
    },
    {
     "name": "stdout",
     "output_type": "stream",
     "text": [
      "Waiting for simulation script to connect on port: tcp://localhost:41761\n",
      "Please start proper ns-3 simulation script using ./waf --run \"...\"\n"
     ]
    },
    {
     "name": "stderr",
     "output_type": "stream",
     "text": [
      "COMET INFO: ----------------------------\n",
      "COMET INFO: Comet.ml Experiment Summary:\n",
      "COMET INFO:   Data:\n",
      "COMET INFO:     url: https://www.comet.com/sheila-janota/rl-in-wifi/9c4b7f65fcf94cf29fcd8e14b6b3db70\n",
      "COMET INFO:   Metrics [count] (min, max):\n",
      "COMET INFO:     Chosen CW [179970]           : (16.0, 1024.0)\n",
      "COMET INFO:     Cumulative reward [15]       : (1625.7706298828125, 1665.79443359375)\n",
      "COMET INFO:     Current throughput [179970]  : (35.7421989440918, 44.67770004272461)\n",
      "COMET INFO:     Fairness index [179970]      : (2.0, 2.0)\n",
      "COMET INFO:     Megabytes sent [179970]      : (0.35742199420928955, 4758.670183777809)\n",
      "COMET INFO:     Observation 0 [179970]       : (0.8038085434834162, 0.9274364095926285)\n",
      "COMET INFO:     Observation 1 [179970]       : (0.012327291015366889, 0.060669975173371)\n",
      "COMET INFO:     Per-ep reward [179970]       : (77.724365234375, 1665.79443359375)\n",
      "COMET INFO:     Round megabytes sent [179970]: (0.27923598885536194, 0.4579469859600067)\n",
      "COMET INFO:     Round reward [179970]        : (0.1861572265625, 0.3052978515625)\n",
      "COMET INFO:     Speed [15]                   : (77.41460074484348, 79.31116972963015)\n",
      "COMET INFO:     Station count [179970]       : (16.0, 1024.0)\n",
      "COMET INFO:     actor_loss [179970]          : (-6389843.0, 36.53114318847656)\n",
      "COMET INFO:     critic_loss [179970]         : (0.0, 3999301894144.0)\n",
      "COMET INFO:     loss [67171]                 : (-6379746.5, 3994731413504.0)\n",
      "COMET INFO:   Uploads:\n",
      "COMET INFO:     histogram3d: 179970\n",
      "COMET INFO: ----------------------------\n"
     ]
    },
    {
     "name": "stdout",
     "output_type": "stream",
     "text": [
      "Sent 4758.67 Mb/s.\tMean speed: 79.31 Mb/s\tEpisode 15/15 finished\n",
      "\n"
     ]
    },
    {
     "name": "stderr",
     "output_type": "stream",
     "text": [
      "COMET INFO: Uploading stats to Comet before program termination (may take several seconds)\n",
      "COMET INFO: Still uploading\n",
      "COMET INFO: Still uploading\n",
      "COMET INFO: Still uploading\n",
      "COMET INFO: Still uploading\n",
      "COMET INFO: Still uploading\n",
      "COMET INFO: Still uploading\n",
      "COMET INFO: Still uploading\n",
      "COMET INFO: Still uploading\n",
      "COMET INFO: Still uploading\n",
      "COMET INFO: Still uploading\n",
      "COMET INFO: Still uploading\n",
      "COMET INFO: Still uploading\n",
      "COMET INFO: Still uploading\n",
      "COMET INFO: Still uploading\n",
      "COMET INFO: Still uploading\n",
      "COMET INFO: Still uploading\n",
      "COMET INFO: Still uploading\n",
      "COMET INFO: Still uploading\n",
      "COMET INFO: Still uploading\n",
      "COMET INFO: Still uploading\n",
      "COMET INFO: Still uploading\n",
      "COMET INFO: Still uploading\n",
      "COMET INFO: Still uploading\n",
      "COMET INFO: Still uploading\n",
      "COMET INFO: Still uploading\n",
      "COMET INFO: Still uploading\n",
      "COMET INFO: Still uploading\n",
      "COMET INFO: Still uploading\n",
      "COMET INFO: Still uploading\n",
      "COMET INFO: Still uploading\n",
      "COMET INFO: Still uploading\n",
      "COMET INFO: Still uploading\n",
      "COMET INFO: Waiting for completion of the file uploads (may take several seconds)\n",
      "COMET INFO: Still uploading\n"
     ]
    },
    {
     "name": "stdout",
     "output_type": "stream",
     "text": [
      "Training finished.\n"
     ]
    }
   ],
   "source": [
    "#%%\n",
    "teacher = Teacher(env, 1, Preprocessor(False))\n",
    "\n",
    "lr_actor = 4e-4\n",
    "lr_critic = 4e-3\n",
    "\n",
    "agent_count = 2 # Number of agents to train\n",
    "agents = []    # List to store the agents\n",
    "\n",
    "for i in range(agent_count):\n",
    "    config = Config(buffer_size=4*steps_per_ep*threads_no, batch_size=32, gamma=0.7, tau=1e-3, lr_actor=lr_actor, lr_critic=lr_critic, update_every=1)\n",
    "    agent = Agent(history_length, action_size=1, config=config, actor_layers=[8, 128, 16], critic_layers=[8,128,16])\n",
    "    agents.append(agent)\n",
    "    \n",
    "# Test the model\n",
    "hyperparams = {**config.__dict__, **sim_args}\n",
    "tags = [\"Rew: normalized speed\",\n",
    "        f\"{Agent.NAME}\",\n",
    "        sim_args['scenario'],\n",
    "        f\"Actor: {lr_actor}\",\n",
    "        f\"Critic: {lr_critic}\",\n",
    "        f\"Instances: {threads_no}\",\n",
    "        f\"Station count: {sim_args['nWifi']}\",\n",
    "        *[f\"{key}: {sim_args[key]}\" for key in list(sim_args)[:3]]]\n",
    "# agent.save()\n",
    "logger = teacher.train(agents, EPISODE_COUNT,\n",
    "                        simTime=simTime,\n",
    "                        stepTime=stepTime,\n",
    "                        history_length=history_length,\n",
    "                        send_logs=True,\n",
    "                        experimental=True,\n",
    "                        tags=tags,\n",
    "                        parameters=hyperparams)\n",
    "# logger = teacher.eval(agents,\n",
    "#                         simTime=simTime,\n",
    "#                         stepTime=stepTime,\n",
    "#                         history_length=history_length,\n",
    "#                         tags=tags,\n",
    "#                         parameters=hyperparams)\n",
    "# agent.save()"
   ]
  },
  {
   "cell_type": "code",
   "execution_count": null,
   "id": "45d38c48",
   "metadata": {},
   "outputs": [],
   "source": []
  }
 ],
 "metadata": {
  "kernelspec": {
   "display_name": "Python 3",
   "language": "python",
   "name": "python3"
  },
  "language_info": {
   "codemirror_mode": {
    "name": "ipython",
    "version": 3
   },
   "file_extension": ".py",
   "mimetype": "text/x-python",
   "name": "python",
   "nbconvert_exporter": "python",
   "pygments_lexer": "ipython3",
   "version": "3.7.10"
  }
 },
 "nbformat": 4,
 "nbformat_minor": 5
}
